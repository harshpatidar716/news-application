{
 "cells": [
  {
   "cell_type": "code",
   "execution_count": 4,
   "metadata": {},
   "outputs": [],
   "source": [
    "import pandas as pd\n",
    "import numpy as np\n",
    "import matplotlib.pyplot as plt\n",
    "import seaborn as sns"
   ]
  },
  {
   "cell_type": "code",
   "execution_count": null,
   "metadata": {},
   "outputs": [],
   "source": [
    "data = pd.read_json(\"\")"
   ]
  },
  {
   "cell_type": "code",
   "execution_count": 15,
   "metadata": {},
   "outputs": [],
   "source": [
    "data = pd.read_json(\"data.json\", lines=True)"
   ]
  },
  {
   "cell_type": "code",
   "execution_count": 16,
   "metadata": {},
   "outputs": [
    {
     "name": "stdout",
     "output_type": "stream",
     "text": [
      "                                                     link  \\\n",
      "0       https://www.huffpost.com/entry/covid-boosters-...   \n",
      "1       https://www.huffpost.com/entry/american-airlin...   \n",
      "2       https://www.huffpost.com/entry/funniest-tweets...   \n",
      "3       https://www.huffpost.com/entry/funniest-parent...   \n",
      "4       https://www.huffpost.com/entry/amy-cooper-lose...   \n",
      "...                                                   ...   \n",
      "209522  https://www.huffingtonpost.com/entry/rim-ceo-t...   \n",
      "209523  https://www.huffingtonpost.com/entry/maria-sha...   \n",
      "209524  https://www.huffingtonpost.com/entry/super-bow...   \n",
      "209525  https://www.huffingtonpost.com/entry/aldon-smi...   \n",
      "209526  https://www.huffingtonpost.com/entry/dwight-ho...   \n",
      "\n",
      "                                                 headline   category  \\\n",
      "0       Over 4 Million Americans Roll Up Sleeves For O...  U.S. NEWS   \n",
      "1       American Airlines Flyer Charged, Banned For Li...  U.S. NEWS   \n",
      "2       23 Of The Funniest Tweets About Cats And Dogs ...     COMEDY   \n",
      "3       The Funniest Tweets From Parents This Week (Se...  PARENTING   \n",
      "4       Woman Who Called Cops On Black Bird-Watcher Lo...  U.S. NEWS   \n",
      "...                                                   ...        ...   \n",
      "209522  RIM CEO Thorsten Heins' 'Significant' Plans Fo...       TECH   \n",
      "209523  Maria Sharapova Stunned By Victoria Azarenka I...     SPORTS   \n",
      "209524  Giants Over Patriots, Jets Over Colts Among  M...     SPORTS   \n",
      "209525  Aldon Smith Arrested: 49ers Linebacker Busted ...     SPORTS   \n",
      "209526  Dwight Howard Rips Teammates After Magic Loss ...     SPORTS   \n",
      "\n",
      "                                        short_description  \\\n",
      "0       Health experts said it is too early to predict...   \n",
      "1       He was subdued by passengers and crew when he ...   \n",
      "2       \"Until you have a dog you don't understand wha...   \n",
      "3       \"Accidentally put grown-up toothpaste on my to...   \n",
      "4       Amy Cooper accused investment firm Franklin Te...   \n",
      "...                                                   ...   \n",
      "209522  Verizon Wireless and AT&T are already promotin...   \n",
      "209523  Afterward, Azarenka, more effusive with the pr...   \n",
      "209524  Leading up to Super Bowl XLVI, the most talked...   \n",
      "209525  CORRECTION: An earlier version of this story i...   \n",
      "209526  The five-time all-star center tore into his te...   \n",
      "\n",
      "                     authors       date  \n",
      "0       Carla K. Johnson, AP 2022-09-23  \n",
      "1             Mary Papenfuss 2022-09-23  \n",
      "2              Elyse Wanshel 2022-09-23  \n",
      "3           Caroline Bologna 2022-09-23  \n",
      "4             Nina Golgowski 2022-09-22  \n",
      "...                      ...        ...  \n",
      "209522      Reuters, Reuters 2012-01-28  \n",
      "209523                       2012-01-28  \n",
      "209524                       2012-01-28  \n",
      "209525                       2012-01-28  \n",
      "209526                       2012-01-28  \n",
      "\n",
      "[209527 rows x 6 columns]\n"
     ]
    }
   ],
   "source": [
    "print(data)"
   ]
  },
  {
   "cell_type": "code",
   "execution_count": null,
   "metadata": {},
   "outputs": [],
   "source": []
  }
 ],
 "metadata": {
  "kernelspec": {
   "display_name": "Python 3",
   "language": "python",
   "name": "python3"
  },
  "language_info": {
   "codemirror_mode": {
    "name": "ipython",
    "version": 3
   },
   "file_extension": ".py",
   "mimetype": "text/x-python",
   "name": "python",
   "nbconvert_exporter": "python",
   "pygments_lexer": "ipython3",
   "version": "3.10.5"
  },
  "orig_nbformat": 4
 },
 "nbformat": 4,
 "nbformat_minor": 2
}
