{
 "cells": [
  {
   "cell_type": "code",
   "execution_count": 1,
   "id": "3126d3ec",
   "metadata": {
    "execution": {
     "iopub.execute_input": "2022-04-07T18:45:55.505750Z",
     "iopub.status.busy": "2022-04-07T18:45:55.500283Z",
     "iopub.status.idle": "2022-04-07T18:45:56.630719Z",
     "shell.execute_reply": "2022-04-07T18:45:56.629524Z",
     "shell.execute_reply.started": "2022-04-07T17:26:41.150317Z"
    },
    "papermill": {
     "duration": 1.153001,
     "end_time": "2022-04-07T18:45:56.631005",
     "exception": false,
     "start_time": "2022-04-07T18:45:55.478004",
     "status": "completed"
    },
    "tags": []
   },
   "outputs": [],
   "source": [
    "import pandas as pd\n",
    "import numpy as np\n",
    "import matplotlib.pyplot as plt\n",
    "import seaborn as sns"
   ]
  },
  {
   "cell_type": "markdown",
   "id": "5a5512b2",
   "metadata": {},
   "source": []
  },
  {
   "cell_type": "code",
   "execution_count": 2,
   "id": "d28edecf",
   "metadata": {
    "execution": {
     "iopub.execute_input": "2022-04-07T18:45:56.666526Z",
     "iopub.status.busy": "2022-04-07T18:45:56.665898Z",
     "iopub.status.idle": "2022-04-07T18:45:57.843341Z",
     "shell.execute_reply": "2022-04-07T18:45:57.842596Z",
     "shell.execute_reply.started": "2022-04-07T17:53:27.334024Z"
    },
    "papermill": {
     "duration": 1.196501,
     "end_time": "2022-04-07T18:45:57.843559",
     "exception": false,
     "start_time": "2022-04-07T18:45:56.647058",
     "status": "completed"
    },
    "tags": []
   },
   "outputs": [],
   "source": [
    "data = pd.read_json(\"data.json\", lines=True)"
   ]
  },
  {
   "cell_type": "code",
   "execution_count": 3,
   "id": "a118a046",
   "metadata": {
    "execution": {
     "iopub.execute_input": "2022-04-07T18:45:57.886790Z",
     "iopub.status.busy": "2022-04-07T18:45:57.885978Z",
     "iopub.status.idle": "2022-04-07T18:45:57.905497Z",
     "shell.execute_reply": "2022-04-07T18:45:57.904849Z",
     "shell.execute_reply.started": "2022-04-07T18:01:15.952216Z"
    },
    "papermill": {
     "duration": 0.045245,
     "end_time": "2022-04-07T18:45:57.905662",
     "exception": false,
     "start_time": "2022-04-07T18:45:57.860417",
     "status": "completed"
    },
    "tags": []
   },
   "outputs": [
    {
     "data": {
      "text/html": [
       "<div>\n",
       "<style scoped>\n",
       "    .dataframe tbody tr th:only-of-type {\n",
       "        vertical-align: middle;\n",
       "    }\n",
       "\n",
       "    .dataframe tbody tr th {\n",
       "        vertical-align: top;\n",
       "    }\n",
       "\n",
       "    .dataframe thead th {\n",
       "        text-align: right;\n",
       "    }\n",
       "</style>\n",
       "<table border=\"1\" class=\"dataframe\">\n",
       "  <thead>\n",
       "    <tr style=\"text-align: right;\">\n",
       "      <th></th>\n",
       "      <th>link</th>\n",
       "      <th>headline</th>\n",
       "      <th>category</th>\n",
       "      <th>short_description</th>\n",
       "      <th>authors</th>\n",
       "      <th>date</th>\n",
       "    </tr>\n",
       "  </thead>\n",
       "  <tbody>\n",
       "    <tr>\n",
       "      <th>0</th>\n",
       "      <td>https://www.huffpost.com/entry/covid-boosters-...</td>\n",
       "      <td>Over 4 Million Americans Roll Up Sleeves For O...</td>\n",
       "      <td>U.S. NEWS</td>\n",
       "      <td>Health experts said it is too early to predict...</td>\n",
       "      <td>Carla K. Johnson, AP</td>\n",
       "      <td>2022-09-23</td>\n",
       "    </tr>\n",
       "    <tr>\n",
       "      <th>1</th>\n",
       "      <td>https://www.huffpost.com/entry/american-airlin...</td>\n",
       "      <td>American Airlines Flyer Charged, Banned For Li...</td>\n",
       "      <td>U.S. NEWS</td>\n",
       "      <td>He was subdued by passengers and crew when he ...</td>\n",
       "      <td>Mary Papenfuss</td>\n",
       "      <td>2022-09-23</td>\n",
       "    </tr>\n",
       "    <tr>\n",
       "      <th>2</th>\n",
       "      <td>https://www.huffpost.com/entry/funniest-tweets...</td>\n",
       "      <td>23 Of The Funniest Tweets About Cats And Dogs ...</td>\n",
       "      <td>COMEDY</td>\n",
       "      <td>\"Until you have a dog you don't understand wha...</td>\n",
       "      <td>Elyse Wanshel</td>\n",
       "      <td>2022-09-23</td>\n",
       "    </tr>\n",
       "    <tr>\n",
       "      <th>3</th>\n",
       "      <td>https://www.huffpost.com/entry/funniest-parent...</td>\n",
       "      <td>The Funniest Tweets From Parents This Week (Se...</td>\n",
       "      <td>PARENTING</td>\n",
       "      <td>\"Accidentally put grown-up toothpaste on my to...</td>\n",
       "      <td>Caroline Bologna</td>\n",
       "      <td>2022-09-23</td>\n",
       "    </tr>\n",
       "    <tr>\n",
       "      <th>4</th>\n",
       "      <td>https://www.huffpost.com/entry/amy-cooper-lose...</td>\n",
       "      <td>Woman Who Called Cops On Black Bird-Watcher Lo...</td>\n",
       "      <td>U.S. NEWS</td>\n",
       "      <td>Amy Cooper accused investment firm Franklin Te...</td>\n",
       "      <td>Nina Golgowski</td>\n",
       "      <td>2022-09-22</td>\n",
       "    </tr>\n",
       "    <tr>\n",
       "      <th>...</th>\n",
       "      <td>...</td>\n",
       "      <td>...</td>\n",
       "      <td>...</td>\n",
       "      <td>...</td>\n",
       "      <td>...</td>\n",
       "      <td>...</td>\n",
       "    </tr>\n",
       "    <tr>\n",
       "      <th>209522</th>\n",
       "      <td>https://www.huffingtonpost.com/entry/rim-ceo-t...</td>\n",
       "      <td>RIM CEO Thorsten Heins' 'Significant' Plans Fo...</td>\n",
       "      <td>TECH</td>\n",
       "      <td>Verizon Wireless and AT&amp;T are already promotin...</td>\n",
       "      <td>Reuters, Reuters</td>\n",
       "      <td>2012-01-28</td>\n",
       "    </tr>\n",
       "    <tr>\n",
       "      <th>209523</th>\n",
       "      <td>https://www.huffingtonpost.com/entry/maria-sha...</td>\n",
       "      <td>Maria Sharapova Stunned By Victoria Azarenka I...</td>\n",
       "      <td>SPORTS</td>\n",
       "      <td>Afterward, Azarenka, more effusive with the pr...</td>\n",
       "      <td></td>\n",
       "      <td>2012-01-28</td>\n",
       "    </tr>\n",
       "    <tr>\n",
       "      <th>209524</th>\n",
       "      <td>https://www.huffingtonpost.com/entry/super-bow...</td>\n",
       "      <td>Giants Over Patriots, Jets Over Colts Among  M...</td>\n",
       "      <td>SPORTS</td>\n",
       "      <td>Leading up to Super Bowl XLVI, the most talked...</td>\n",
       "      <td></td>\n",
       "      <td>2012-01-28</td>\n",
       "    </tr>\n",
       "    <tr>\n",
       "      <th>209525</th>\n",
       "      <td>https://www.huffingtonpost.com/entry/aldon-smi...</td>\n",
       "      <td>Aldon Smith Arrested: 49ers Linebacker Busted ...</td>\n",
       "      <td>SPORTS</td>\n",
       "      <td>CORRECTION: An earlier version of this story i...</td>\n",
       "      <td></td>\n",
       "      <td>2012-01-28</td>\n",
       "    </tr>\n",
       "    <tr>\n",
       "      <th>209526</th>\n",
       "      <td>https://www.huffingtonpost.com/entry/dwight-ho...</td>\n",
       "      <td>Dwight Howard Rips Teammates After Magic Loss ...</td>\n",
       "      <td>SPORTS</td>\n",
       "      <td>The five-time all-star center tore into his te...</td>\n",
       "      <td></td>\n",
       "      <td>2012-01-28</td>\n",
       "    </tr>\n",
       "  </tbody>\n",
       "</table>\n",
       "<p>209527 rows × 6 columns</p>\n",
       "</div>"
      ],
      "text/plain": [
       "                                                     link  \\\n",
       "0       https://www.huffpost.com/entry/covid-boosters-...   \n",
       "1       https://www.huffpost.com/entry/american-airlin...   \n",
       "2       https://www.huffpost.com/entry/funniest-tweets...   \n",
       "3       https://www.huffpost.com/entry/funniest-parent...   \n",
       "4       https://www.huffpost.com/entry/amy-cooper-lose...   \n",
       "...                                                   ...   \n",
       "209522  https://www.huffingtonpost.com/entry/rim-ceo-t...   \n",
       "209523  https://www.huffingtonpost.com/entry/maria-sha...   \n",
       "209524  https://www.huffingtonpost.com/entry/super-bow...   \n",
       "209525  https://www.huffingtonpost.com/entry/aldon-smi...   \n",
       "209526  https://www.huffingtonpost.com/entry/dwight-ho...   \n",
       "\n",
       "                                                 headline   category  \\\n",
       "0       Over 4 Million Americans Roll Up Sleeves For O...  U.S. NEWS   \n",
       "1       American Airlines Flyer Charged, Banned For Li...  U.S. NEWS   \n",
       "2       23 Of The Funniest Tweets About Cats And Dogs ...     COMEDY   \n",
       "3       The Funniest Tweets From Parents This Week (Se...  PARENTING   \n",
       "4       Woman Who Called Cops On Black Bird-Watcher Lo...  U.S. NEWS   \n",
       "...                                                   ...        ...   \n",
       "209522  RIM CEO Thorsten Heins' 'Significant' Plans Fo...       TECH   \n",
       "209523  Maria Sharapova Stunned By Victoria Azarenka I...     SPORTS   \n",
       "209524  Giants Over Patriots, Jets Over Colts Among  M...     SPORTS   \n",
       "209525  Aldon Smith Arrested: 49ers Linebacker Busted ...     SPORTS   \n",
       "209526  Dwight Howard Rips Teammates After Magic Loss ...     SPORTS   \n",
       "\n",
       "                                        short_description  \\\n",
       "0       Health experts said it is too early to predict...   \n",
       "1       He was subdued by passengers and crew when he ...   \n",
       "2       \"Until you have a dog you don't understand wha...   \n",
       "3       \"Accidentally put grown-up toothpaste on my to...   \n",
       "4       Amy Cooper accused investment firm Franklin Te...   \n",
       "...                                                   ...   \n",
       "209522  Verizon Wireless and AT&T are already promotin...   \n",
       "209523  Afterward, Azarenka, more effusive with the pr...   \n",
       "209524  Leading up to Super Bowl XLVI, the most talked...   \n",
       "209525  CORRECTION: An earlier version of this story i...   \n",
       "209526  The five-time all-star center tore into his te...   \n",
       "\n",
       "                     authors       date  \n",
       "0       Carla K. Johnson, AP 2022-09-23  \n",
       "1             Mary Papenfuss 2022-09-23  \n",
       "2              Elyse Wanshel 2022-09-23  \n",
       "3           Caroline Bologna 2022-09-23  \n",
       "4             Nina Golgowski 2022-09-22  \n",
       "...                      ...        ...  \n",
       "209522      Reuters, Reuters 2012-01-28  \n",
       "209523                       2012-01-28  \n",
       "209524                       2012-01-28  \n",
       "209525                       2012-01-28  \n",
       "209526                       2012-01-28  \n",
       "\n",
       "[209527 rows x 6 columns]"
      ]
     },
     "execution_count": 3,
     "metadata": {},
     "output_type": "execute_result"
    }
   ],
   "source": [
    "data"
   ]
  },
  {
   "cell_type": "code",
   "execution_count": 4,
   "id": "3ef8d082",
   "metadata": {
    "execution": {
     "iopub.execute_input": "2022-04-07T18:45:57.990041Z",
     "iopub.status.busy": "2022-04-07T18:45:57.952337Z",
     "iopub.status.idle": "2022-04-07T18:45:58.556926Z",
     "shell.execute_reply": "2022-04-07T18:45:58.556283Z",
     "shell.execute_reply.started": "2022-04-07T18:03:35.179462Z"
    },
    "papermill": {
     "duration": 0.633359,
     "end_time": "2022-04-07T18:45:58.557072",
     "exception": false,
     "start_time": "2022-04-07T18:45:57.923713",
     "status": "completed"
    },
    "tags": []
   },
   "outputs": [
    {
     "data": {
      "text/plain": [
       "<AxesSubplot:>"
      ]
     },
     "execution_count": 4,
     "metadata": {},
     "output_type": "execute_result"
    },
    {
     "data": {
      "image/png": "[encoded data removed]",
      "text/plain": [
       "<Figure size 1080x648 with 1 Axes>"
      ]
     },
     "metadata": {
      "needs_background": "light"
     },
     "output_type": "display_data"
    }
   ],
   "source": [
    "fig = plt.figure(figsize=(15,9))\n",
    "sns.barplot(x = data['category'].value_counts().values,y=data['category'].value_counts().index)"
   ]
  },
  {
   "cell_type": "code",
   "execution_count": 5,
   "id": "a330f24b",
   "metadata": {
    "execution": {
     "iopub.execute_input": "2022-04-07T18:45:58.609441Z",
     "iopub.status.busy": "2022-04-07T18:45:58.608355Z",
     "iopub.status.idle": "2022-04-07T18:45:58.610659Z",
     "shell.execute_reply": "2022-04-07T18:45:58.611087Z",
     "shell.execute_reply.started": "2022-04-07T18:04:19.593031Z"
    },
    "papermill": {
     "duration": 0.036373,
     "end_time": "2022-04-07T18:45:58.611292",
     "exception": false,
     "start_time": "2022-04-07T18:45:58.574919",
     "status": "completed"
    },
    "tags": []
   },
   "outputs": [],
   "source": [
    "df = data[['headline','category']]"
   ]
  },
  {
   "cell_type": "markdown",
   "id": "f1b647ff",
   "metadata": {},
   "source": []
  },
  {
   "cell_type": "code",
   "execution_count": 6,
   "id": "4832dc4f",
   "metadata": {
    "execution": {
     "iopub.execute_input": "2022-04-07T18:45:58.650711Z",
     "iopub.status.busy": "2022-04-07T18:45:58.649709Z",
     "iopub.status.idle": "2022-04-07T18:45:58.659785Z",
     "shell.execute_reply": "2022-04-07T18:45:58.659244Z",
     "shell.execute_reply.started": "2022-04-07T18:04:28.302890Z"
    },
    "papermill": {
     "duration": 0.030775,
     "end_time": "2022-04-07T18:45:58.659930",
     "exception": false,
     "start_time": "2022-04-07T18:45:58.629155",
     "status": "completed"
    },
    "tags": []
   },
   "outputs": [
    {
     "data": {
      "text/html": [
       "<div>\n",
       "<style scoped>\n",
       "    .dataframe tbody tr th:only-of-type {\n",
       "        vertical-align: middle;\n",
       "    }\n",
       "\n",
       "    .dataframe tbody tr th {\n",
       "        vertical-align: top;\n",
       "    }\n",
       "\n",
       "    .dataframe thead th {\n",
       "        text-align: right;\n",
       "    }\n",
       "</style>\n",
       "<table border=\"1\" class=\"dataframe\">\n",
       "  <thead>\n",
       "    <tr style=\"text-align: right;\">\n",
       "      <th></th>\n",
       "      <th>headline</th>\n",
       "      <th>category</th>\n",
       "    </tr>\n",
       "  </thead>\n",
       "  <tbody>\n",
       "    <tr>\n",
       "      <th>0</th>\n",
       "      <td>Over 4 Million Americans Roll Up Sleeves For O...</td>\n",
       "      <td>U.S. NEWS</td>\n",
       "    </tr>\n",
       "    <tr>\n",
       "      <th>1</th>\n",
       "      <td>American Airlines Flyer Charged, Banned For Li...</td>\n",
       "      <td>U.S. NEWS</td>\n",
       "    </tr>\n",
       "    <tr>\n",
       "      <th>2</th>\n",
       "      <td>23 Of The Funniest Tweets About Cats And Dogs ...</td>\n",
       "      <td>COMEDY</td>\n",
       "    </tr>\n",
       "    <tr>\n",
       "      <th>3</th>\n",
       "      <td>The Funniest Tweets From Parents This Week (Se...</td>\n",
       "      <td>PARENTING</td>\n",
       "    </tr>\n",
       "    <tr>\n",
       "      <th>4</th>\n",
       "      <td>Woman Who Called Cops On Black Bird-Watcher Lo...</td>\n",
       "      <td>U.S. NEWS</td>\n",
       "    </tr>\n",
       "  </tbody>\n",
       "</table>\n",
       "</div>"
      ],
      "text/plain": [
       "                                            headline   category\n",
       "0  Over 4 Million Americans Roll Up Sleeves For O...  U.S. NEWS\n",
       "1  American Airlines Flyer Charged, Banned For Li...  U.S. NEWS\n",
       "2  23 Of The Funniest Tweets About Cats And Dogs ...     COMEDY\n",
       "3  The Funniest Tweets From Parents This Week (Se...  PARENTING\n",
       "4  Woman Who Called Cops On Black Bird-Watcher Lo...  U.S. NEWS"
      ]
     },
     "execution_count": 6,
     "metadata": {},
     "output_type": "execute_result"
    }
   ],
   "source": [
    "df.head()"
   ]
  },
  {
   "cell_type": "code",
   "execution_count": 7,
   "id": "17630d3e",
   "metadata": {
    "execution": {
     "iopub.execute_input": "2022-04-07T18:45:58.697757Z",
     "iopub.status.busy": "2022-04-07T18:45:58.696770Z",
     "iopub.status.idle": "2022-04-07T18:45:58.890404Z",
     "shell.execute_reply": "2022-04-07T18:45:58.890876Z",
     "shell.execute_reply.started": "2022-04-07T18:05:18.496506Z"
    },
    "papermill": {
     "duration": 0.21451,
     "end_time": "2022-04-07T18:45:58.891077",
     "exception": false,
     "start_time": "2022-04-07T18:45:58.676567",
     "status": "completed"
    },
    "tags": []
   },
   "outputs": [],
   "source": [
    "from sklearn.feature_extraction.text import CountVectorizer"
   ]
  },
  {
   "cell_type": "code",
   "execution_count": 8,
   "id": "5b271b0f",
   "metadata": {
    "execution": {
     "iopub.execute_input": "2022-04-07T18:45:58.941311Z",
     "iopub.status.busy": "2022-04-07T18:45:58.940367Z",
     "iopub.status.idle": "2022-04-07T18:45:58.944755Z",
     "shell.execute_reply": "2022-04-07T18:45:58.945233Z",
     "shell.execute_reply.started": "2022-04-07T18:06:12.736993Z"
    },
    "papermill": {
     "duration": 0.035333,
     "end_time": "2022-04-07T18:45:58.945434",
     "exception": false,
     "start_time": "2022-04-07T18:45:58.910101",
     "status": "completed"
    },
    "tags": []
   },
   "outputs": [],
   "source": [
    "x = np.array(df['headline'])\n",
    "y = np.array(df['category'])"
   ]
  },
  {
   "cell_type": "code",
   "execution_count": 9,
   "id": "a29a76cf",
   "metadata": {
    "execution": {
     "iopub.execute_input": "2022-04-07T18:45:59.010307Z",
     "iopub.status.busy": "2022-04-07T18:45:58.999583Z",
     "iopub.status.idle": "2022-04-07T18:46:01.287128Z",
     "shell.execute_reply": "2022-04-07T18:46:01.286300Z",
     "shell.execute_reply.started": "2022-04-07T18:24:28.482496Z"
    },
    "papermill": {
     "duration": 2.319567,
     "end_time": "2022-04-07T18:46:01.287345",
     "exception": false,
     "start_time": "2022-04-07T18:45:58.967778",
     "status": "completed"
    },
    "tags": []
   },
   "outputs": [],
   "source": [
    "m = CountVectorizer()\n",
    "x = m.fit_transform(x) "
   ]
  },
  {
   "cell_type": "code",
   "execution_count": 10,
   "id": "e39713b5",
   "metadata": {
    "execution": {
     "iopub.execute_input": "2022-04-07T18:46:01.326524Z",
     "iopub.status.busy": "2022-04-07T18:46:01.325790Z",
     "iopub.status.idle": "2022-04-07T18:46:01.385322Z",
     "shell.execute_reply": "2022-04-07T18:46:01.385831Z",
     "shell.execute_reply.started": "2022-04-07T18:25:07.272428Z"
    },
    "papermill": {
     "duration": 0.081131,
     "end_time": "2022-04-07T18:46:01.386021",
     "exception": false,
     "start_time": "2022-04-07T18:46:01.304890",
     "status": "completed"
    },
    "tags": []
   },
   "outputs": [],
   "source": [
    "from sklearn.model_selection import train_test_split"
   ]
  },
  {
   "cell_type": "code",
   "execution_count": 11,
   "id": "8de4c93b",
   "metadata": {
    "execution": {
     "iopub.execute_input": "2022-04-07T18:46:01.425311Z",
     "iopub.status.busy": "2022-04-07T18:46:01.424591Z",
     "iopub.status.idle": "2022-04-07T18:46:01.471498Z",
     "shell.execute_reply": "2022-04-07T18:46:01.470835Z",
     "shell.execute_reply.started": "2022-04-07T18:25:38.227729Z"
    },
    "papermill": {
     "duration": 0.06767,
     "end_time": "2022-04-07T18:46:01.471661",
     "exception": false,
     "start_time": "2022-04-07T18:46:01.403991",
     "status": "completed"
    },
    "tags": []
   },
   "outputs": [],
   "source": [
    "xtrain,xtest,ytrain,ytest =train_test_split(x,y,test_size = 0.20)"
   ]
  },
  {
   "cell_type": "code",
   "execution_count": 14,
   "id": "f1d12832",
   "metadata": {
    "execution": {
     "iopub.execute_input": "2022-04-07T18:46:01.514080Z",
     "iopub.status.busy": "2022-04-07T18:46:01.513431Z",
     "iopub.status.idle": "2022-04-07T18:46:01.518793Z",
     "shell.execute_reply": "2022-04-07T18:46:01.518184Z",
     "shell.execute_reply.started": "2022-04-07T18:28:08.840688Z"
    },
    "papermill": {
     "duration": 0.027305,
     "end_time": "2022-04-07T18:46:01.518944",
     "exception": false,
     "start_time": "2022-04-07T18:46:01.491639",
     "status": "completed"
    },
    "tags": []
   },
   "outputs": [],
   "source": [
    "from sklearn.naive_bayes import MultinomialNB\n"
   ]
  },
  {
   "cell_type": "code",
   "execution_count": 15,
   "id": "c0121aef",
   "metadata": {
    "execution": {
     "iopub.execute_input": "2022-04-07T18:46:01.566191Z",
     "iopub.status.busy": "2022-04-07T18:46:01.565171Z",
     "iopub.status.idle": "2022-04-07T18:46:02.571265Z",
     "shell.execute_reply": "2022-04-07T18:46:02.571810Z",
     "shell.execute_reply.started": "2022-04-07T18:28:33.823740Z"
    },
    "papermill": {
     "duration": 1.033851,
     "end_time": "2022-04-07T18:46:02.571999",
     "exception": false,
     "start_time": "2022-04-07T18:46:01.538148",
     "status": "completed"
    },
    "tags": []
   },
   "outputs": [
    {
     "data": {
      "text/html": [
       "<style>#sk-container-id-1 {color: black;background-color: white;}#sk-container-id-1 pre{padding: 0;}#sk-container-id-1 div.sk-toggleable {background-color: white;}#sk-container-id-1 label.sk-toggleable__label {cursor: pointer;display: block;width: 100%;margin-bottom: 0;padding: 0.3em;box-sizing: border-box;text-align: center;}#sk-container-id-1 label.sk-toggleable__label-arrow:before {content: \"▸\";float: left;margin-right: 0.25em;color: #696969;}#sk-container-id-1 label.sk-toggleable__label-arrow:hover:before {color: black;}#sk-container-id-1 div.sk-estimator:hover label.sk-toggleable__label-arrow:before {color: black;}#sk-container-id-1 div.sk-toggleable__content {max-height: 0;max-width: 0;overflow: hidden;text-align: left;background-color: #f0f8ff;}#sk-container-id-1 div.sk-toggleable__content pre {margin: 0.2em;color: black;border-radius: 0.25em;background-color: #f0f8ff;}#sk-container-id-1 input.sk-toggleable__control:checked~div.sk-toggleable__content {max-height: 200px;max-width: 100%;overflow: auto;}#sk-container-id-1 input.sk-toggleable__control:checked~label.sk-toggleable__label-arrow:before {content: \"▾\";}#sk-container-id-1 div.sk-estimator input.sk-toggleable__control:checked~label.sk-toggleable__label {background-color: #d4ebff;}#sk-container-id-1 div.sk-label input.sk-toggleable__control:checked~label.sk-toggleable__label {background-color: #d4ebff;}#sk-container-id-1 input.sk-hidden--visually {border: 0;clip: rect(1px 1px 1px 1px);clip: rect(1px, 1px, 1px, 1px);height: 1px;margin: -1px;overflow: hidden;padding: 0;position: absolute;width: 1px;}#sk-container-id-1 div.sk-estimator {font-family: monospace;background-color: #f0f8ff;border: 1px dotted black;border-radius: 0.25em;box-sizing: border-box;margin-bottom: 0.5em;}#sk-container-id-1 div.sk-estimator:hover {background-color: #d4ebff;}#sk-container-id-1 div.sk-parallel-item::after {content: \"\";width: 100%;border-bottom: 1px solid gray;flex-grow: 1;}#sk-container-id-1 div.sk-label:hover label.sk-toggleable__label {background-color: #d4ebff;}#sk-container-id-1 div.sk-serial::before {content: \"\";position: absolute;border-left: 1px solid gray;box-sizing: border-box;top: 0;bottom: 0;left: 50%;z-index: 0;}#sk-container-id-1 div.sk-serial {display: flex;flex-direction: column;align-items: center;background-color: white;padding-right: 0.2em;padding-left: 0.2em;position: relative;}#sk-container-id-1 div.sk-item {position: relative;z-index: 1;}#sk-container-id-1 div.sk-parallel {display: flex;align-items: stretch;justify-content: center;background-color: white;position: relative;}#sk-container-id-1 div.sk-item::before, #sk-container-id-1 div.sk-parallel-item::before {content: \"\";position: absolute;border-left: 1px solid gray;box-sizing: border-box;top: 0;bottom: 0;left: 50%;z-index: -1;}#sk-container-id-1 div.sk-parallel-item {display: flex;flex-direction: column;z-index: 1;position: relative;background-color: white;}#sk-container-id-1 div.sk-parallel-item:first-child::after {align-self: flex-end;width: 50%;}#sk-container-id-1 div.sk-parallel-item:last-child::after {align-self: flex-start;width: 50%;}#sk-container-id-1 div.sk-parallel-item:only-child::after {width: 0;}#sk-container-id-1 div.sk-dashed-wrapped {border: 1px dashed gray;margin: 0 0.4em 0.5em 0.4em;box-sizing: border-box;padding-bottom: 0.4em;background-color: white;}#sk-container-id-1 div.sk-label label {font-family: monospace;font-weight: bold;display: inline-block;line-height: 1.2em;}#sk-container-id-1 div.sk-label-container {text-align: center;}#sk-container-id-1 div.sk-container {/* jupyter's `normalize.less` sets `[hidden] { display: none; }` but bootstrap.min.css set `[hidden] { display: none !important; }` so we also need the `!important` here to be able to override the default hidden behavior on the sphinx rendered scikit-learn.org. See: https://github.com/scikit-learn/scikit-learn/issues/21755 */display: inline-block !important;position: relative;}#sk-container-id-1 div.sk-text-repr-fallback {display: none;}</style><div id=\"sk-container-id-1\" class=\"sk-top-container\"><div class=\"sk-text-repr-fallback\"><pre>MultinomialNB()</pre><b>In a Jupyter environment, please rerun this cell to show the HTML representation or trust the notebook. <br />On GitHub, the HTML representation is unable to render, please try loading this page with nbviewer.org.</b></div><div class=\"sk-container\" hidden><div class=\"sk-item\"><div class=\"sk-estimator sk-toggleable\"><input class=\"sk-toggleable__control sk-hidden--visually\" id=\"sk-estimator-id-1\" type=\"checkbox\" checked><label for=\"sk-estimator-id-1\" class=\"sk-toggleable__label sk-toggleable__label-arrow\">MultinomialNB</label><div class=\"sk-toggleable__content\"><pre>MultinomialNB()</pre></div></div></div></div></div>"
      ],
      "text/plain": [
       "MultinomialNB()"
      ]
     },
     "execution_count": 15,
     "metadata": {},
     "output_type": "execute_result"
    }
   ],
   "source": [
    "model =MultinomialNB()\n",
    "model.fit(xtrain,ytrain)"
   ]
  },
  {
   "cell_type": "code",
   "execution_count": 16,
   "id": "392c02ab",
   "metadata": {
    "execution": {
     "iopub.execute_input": "2022-04-07T18:46:02.611728Z",
     "iopub.status.busy": "2022-04-07T18:46:02.610703Z",
     "iopub.status.idle": "2022-04-07T18:46:02.616814Z",
     "shell.execute_reply": "2022-04-07T18:46:02.617419Z",
     "shell.execute_reply.started": "2022-04-07T18:29:07.192991Z"
    },
    "papermill": {
     "duration": 0.027689,
     "end_time": "2022-04-07T18:46:02.617602",
     "exception": false,
     "start_time": "2022-04-07T18:46:02.589913",
     "status": "completed"
    },
    "tags": []
   },
   "outputs": [
    {
     "data": {
      "text/plain": [
       "'World Cup Captains Want To Wear Rainbow Armbands In Qatar'"
      ]
     },
     "execution_count": 16,
     "metadata": {},
     "output_type": "execute_result"
    }
   ],
   "source": [
    "df['headline'].loc[10]"
   ]
  },
  {
   "cell_type": "code",
   "execution_count": 17,
   "id": "d6a6f74f",
   "metadata": {
    "execution": {
     "iopub.execute_input": "2022-04-07T18:46:02.657434Z",
     "iopub.status.busy": "2022-04-07T18:46:02.656685Z",
     "iopub.status.idle": "2022-04-07T18:46:02.662891Z",
     "shell.execute_reply": "2022-04-07T18:46:02.663389Z",
     "shell.execute_reply.started": "2022-04-07T18:29:44.886031Z"
    },
    "papermill": {
     "duration": 0.028002,
     "end_time": "2022-04-07T18:46:02.663569",
     "exception": false,
     "start_time": "2022-04-07T18:46:02.635567",
     "status": "completed"
    },
    "tags": []
   },
   "outputs": [
    {
     "data": {
      "text/plain": [
       "'WORLD NEWS'"
      ]
     },
     "execution_count": 17,
     "metadata": {},
     "output_type": "execute_result"
    }
   ],
   "source": [
    "df['category'].loc[10]"
   ]
  },
  {
   "cell_type": "code",
   "execution_count": 26,
   "id": "dc56c937",
   "metadata": {
    "execution": {
     "iopub.execute_input": "2022-04-07T18:46:02.706817Z",
     "iopub.status.busy": "2022-04-07T18:46:02.706099Z",
     "iopub.status.idle": "2022-04-07T18:46:02.708870Z",
     "shell.execute_reply": "2022-04-07T18:46:02.709334Z",
     "shell.execute_reply.started": "2022-04-07T18:44:08.620765Z"
    },
    "papermill": {
     "duration": 0.028209,
     "end_time": "2022-04-07T18:46:02.709516",
     "exception": false,
     "start_time": "2022-04-07T18:46:02.681307",
     "status": "completed"
    },
    "tags": []
   },
   "outputs": [],
   "source": [
    "input = 'Will a Tamil babu inherit Naveen Babu'\n",
    "text = m.transform([input]).toarray()"
   ]
  },
  {
   "cell_type": "code",
   "execution_count": 27,
   "id": "ef37ccaa",
   "metadata": {
    "execution": {
     "iopub.execute_input": "2022-04-07T18:46:02.751294Z",
     "iopub.status.busy": "2022-04-07T18:46:02.750628Z",
     "iopub.status.idle": "2022-04-07T18:46:02.762515Z",
     "shell.execute_reply": "2022-04-07T18:46:02.764169Z",
     "shell.execute_reply.started": "2022-04-07T18:44:15.345724Z"
    },
    "papermill": {
     "duration": 0.036356,
     "end_time": "2022-04-07T18:46:02.764533",
     "exception": false,
     "start_time": "2022-04-07T18:46:02.728177",
     "status": "completed"
    },
    "tags": []
   },
   "outputs": [
    {
     "data": {
      "text/plain": [
       "array(['BUSINESS'], dtype='<U14')"
      ]
     },
     "execution_count": 27,
     "metadata": {},
     "output_type": "execute_result"
    }
   ],
   "source": [
    "model.predict(text)"
   ]
  },
  {
   "cell_type": "code",
   "execution_count": null,
   "id": "efb698aa",
   "metadata": {
    "papermill": {
     "duration": 0.039659,
     "end_time": "2022-04-07T18:46:02.845489",
     "exception": false,
     "start_time": "2022-04-07T18:46:02.805830",
     "status": "completed"
    },
    "tags": []
   },
   "outputs": [],
   "source": []
  },
  {
   "cell_type": "code",
   "execution_count": null,
   "id": "99d05e09",
   "metadata": {},
   "outputs": [],
   "source": []
  },
  {
   "cell_type": "code",
   "execution_count": null,
   "id": "d0b5d0b6",
   "metadata": {},
   "outputs": [],
   "source": []
  },
  {
   "cell_type": "code",
   "execution_count": null,
   "id": "66eec68d",
   "metadata": {},
   "outputs": [],
   "source": []
  },
  {
   "cell_type": "code",
   "execution_count": null,
   "id": "bf9952d9",
   "metadata": {},
   "outputs": [],
   "source": []
  },
  {
   "cell_type": "code",
   "execution_count": null,
   "id": "4eb8e3ff",
   "metadata": {},
   "outputs": [],
   "source": []
  },
  {
   "cell_type": "code",
   "execution_count": null,
   "id": "b785a6c4",
   "metadata": {},
   "outputs": [],
   "source": []
  }
 ],
 "metadata": {
  "kernelspec": {
   "display_name": "Python 3 (ipykernel)",
   "language": "python",
   "name": "python3"
  },
  "language_info": {
   "codemirror_mode": {
    "name": "ipython",
    "version": 3
   },
   "file_extension": ".py",
   "mimetype": "text/x-python",
   "name": "python",
   "nbconvert_exporter": "python",
   "pygments_lexer": "ipython3",
   "version": "3.7.0"
  },
  "papermill": {
   "default_parameters": {},
   "duration": 19.232555,
   "end_time": "2022-04-07T18:46:03.795994",
   "environment_variables": {},
   "exception": null,
   "input_path": "__notebook__.ipynb",
   "output_path": "__notebook__.ipynb",
   "parameters": {},
   "start_time": "2022-04-07T18:45:44.563439",
   "version": "2.3.3"
  }
 },
 "nbformat": 4,
 "nbformat_minor": 5
}
